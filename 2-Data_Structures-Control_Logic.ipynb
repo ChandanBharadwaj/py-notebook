{
 "cells": [
  {
   "cell_type": "markdown",
   "metadata": {},
   "source": [
    "# Data Structures"
   ]
  },
  {
   "cell_type": "markdown",
   "metadata": {},
   "source": [
    "# List"
   ]
  },
  {
   "cell_type": "code",
   "execution_count": null,
   "metadata": {
    "ExecuteTime": {
     "end_time": "2017-10-04T18:38:33.998071Z",
     "start_time": "2017-10-04T18:38:33.989861Z"
    }
   },
   "outputs": [],
   "source": [
    "a_list = [1, 2, 3] # commas to seperate elements\n",
    "##len - built-in function\n",
    "print(\"Length of a_list is: %i\"%(len(a_list)))\n",
    "\n",
    "print(\"The 3rd element of a_list is: %s\" %(a_list[2])) # Remember Python starts with 0\n",
    "print(\"The last element of a_list is: %s\" %(a_list[-1])) # -1 means the end\n",
    "print(\"The sum of a_list is %.2f\"%(sum(a_list)))"
   ]
  },
  {
   "cell_type": "code",
   "execution_count": null,
   "metadata": {
    "ExecuteTime": {
     "end_time": "2017-10-04T18:38:34.199311Z",
     "start_time": "2017-10-04T18:38:34.187724Z"
    }
   },
   "outputs": [],
   "source": [
    "b_list = [20, True, \"good\", \"good\"] # We can put different types in a list\n",
    "b_list"
   ]
  },
  {
   "cell_type": "markdown",
   "metadata": {},
   "source": [
    "Update a list: __pop__, __remove__, __append__, __extend__"
   ]
  },
  {
   "cell_type": "code",
   "execution_count": null,
   "metadata": {
    "ExecuteTime": {
     "end_time": "2017-10-04T18:38:34.748166Z",
     "start_time": "2017-10-04T18:38:34.742477Z"
    }
   },
   "outputs": [],
   "source": [
    "print(a_list)\n",
    "print(\"Pop %i out of a_list\" % a_list.pop(1) )   # pop the value of an index\n",
    "print(a_list)"
   ]
  },
  {
   "cell_type": "code",
   "execution_count": null,
   "metadata": {
    "ExecuteTime": {
     "end_time": "2017-10-04T18:38:35.145391Z",
     "start_time": "2017-10-04T18:38:35.138872Z"
    }
   },
   "outputs": [],
   "source": [
    "print(\"Remove the string good from b_list\")\n",
    "b_list.remove(\"good\") # remove a specific value (the first one in the list)\n",
    "print(b_list)"
   ]
  },
  {
   "cell_type": "code",
   "execution_count": null,
   "metadata": {
    "ExecuteTime": {
     "end_time": "2017-10-04T18:38:35.767287Z",
     "start_time": "2017-10-04T18:38:35.762428Z"
    }
   },
   "outputs": [],
   "source": [
    "a_list.append(10)\n",
    "print(\"After appending a new value, a_list is now: %s\"%(str(a_list)))"
   ]
  },
  {
   "cell_type": "code",
   "execution_count": null,
   "metadata": {
    "ExecuteTime": {
     "end_time": "2017-10-04T18:38:36.939201Z",
     "start_time": "2017-10-04T18:38:36.933625Z"
    }
   },
   "outputs": [],
   "source": [
    "# merge a_list and b_list\n",
    "my_list_1 = list((1,2,3,4))\n",
    "my_list_2 = list((5,6,7,8))\n",
    "my_list_1.extend(my_list_2)\n",
    "my_list_3 = list((10,1))\n",
    "print(\"Merging a_list and b_list: %s\"%(str(my_list_1)))\n",
    "print(\"We can also use + to concatenate two lists: a_list + b_list = %s\"%((my_list_2 +  my_list_3)))\n"
   ]
  },
  {
   "cell_type": "markdown",
   "metadata": {},
   "source": [
    "## Tuple"
   ]
  },
  {
   "cell_type": "markdown",
   "metadata": {
    "ExecuteTime": {
     "end_time": "2017-10-03T15:58:48.469747Z",
     "start_time": "2017-10-03T15:58:48.461327Z"
    }
   },
   "source": [
    "Initialize a tuple with paranthesis. The major difference between list and tuple is that you can alter list but not tuple."
   ]
  },
  {
   "cell_type": "code",
   "execution_count": null,
   "metadata": {
    "ExecuteTime": {
     "end_time": "2017-10-04T18:38:38.128034Z",
     "start_time": "2017-10-04T18:38:38.122907Z"
    }
   },
   "outputs": [],
   "source": [
    "a_tuple = (1, 2, 3, 10)\n",
    "print(a_tuple)\n",
    "print(\"First element of a_tuple: %i\" % a_tuple[0] )"
   ]
  },
  {
   "cell_type": "code",
   "execution_count": null,
   "metadata": {
    "ExecuteTime": {
     "end_time": "2017-10-04T18:38:39.306874Z",
     "start_time": "2017-10-04T18:38:39.166231Z"
    }
   },
   "outputs": [],
   "source": [
    "# You cannot change the values of a_tuple\n",
    "a_tuple[0] = 5"
   ]
  },
  {
   "cell_type": "markdown",
   "metadata": {},
   "source": [
    "## Dictionary"
   ]
  },
  {
   "cell_type": "code",
   "execution_count": null,
   "metadata": {
    "ExecuteTime": {
     "end_time": "2017-10-04T18:38:40.816234Z",
     "start_time": "2017-10-04T18:38:40.811386Z"
    }
   },
   "outputs": [],
   "source": [
    "d = {}\n",
    "\n",
    "d = {1 :\"1 value\" } \n",
    "\n",
    "d[2] = \"2 value\" # add a key-value by using bracket (key). You can put anything in key/value.\n",
    "\n",
    "print(d)\n"
   ]
  },
  {
   "cell_type": "code",
   "execution_count": null,
   "metadata": {
    "ExecuteTime": {
     "end_time": "2017-10-04T18:38:41.195117Z",
     "start_time": "2017-10-04T18:38:41.184632Z"
    }
   },
   "outputs": [],
   "source": [
    "# Use for loop to add values\n",
    "for index in range(3, 5):\n",
    "    d[index] = \"%i value\" %index\n",
    "print(d)\n",
    "print(\"All the keys: \" + str(d.keys()))\n",
    "print(\"All the values: \" + str(d.values()))"
   ]
  },
  {
   "cell_type": "code",
   "execution_count": null,
   "metadata": {
    "ExecuteTime": {
     "end_time": "2017-10-04T18:38:42.319726Z",
     "start_time": "2017-10-04T18:38:42.313744Z"
    }
   },
   "outputs": [],
   "source": [
    "for key,value in d.items():\n",
    "    print (\"Key is: \",key,\" Value is : \", value)"
   ]
  },
  {
   "cell_type": "markdown",
   "metadata": {},
   "source": [
    "---"
   ]
  },
  {
   "cell_type": "markdown",
   "metadata": {},
   "source": [
    "## Control Logics\n",
    "\n",
    " if, if-else, for-loop, and while-loop."
   ]
  },
  {
   "cell_type": "markdown",
   "metadata": {},
   "source": [
    "Python syntax for comparison is the same as our hand-written convention: \n",
    "\n",
    "1. Larger (or equal): $>$ ($>=$)\n",
    "2. Smaller (or equal): $<$ ($<=$)\n",
    "3. Equal to: $==$\n",
    "4. Not equal to: $!=$"
   ]
  },
  {
   "cell_type": "code",
   "execution_count": null,
   "metadata": {
    "ExecuteTime": {
     "end_time": "2017-10-04T18:38:43.928458Z",
     "start_time": "2017-10-04T18:38:43.923194Z"
    }
   },
   "outputs": [],
   "source": [
    "3 == 5 "
   ]
  },
  {
   "cell_type": "code",
   "execution_count": null,
   "metadata": {
    "ExecuteTime": {
     "end_time": "2017-10-04T18:38:44.272085Z",
     "start_time": "2017-10-04T18:38:44.264442Z"
    }
   },
   "outputs": [],
   "source": [
    "72 >= 2"
   ]
  },
  {
   "cell_type": "code",
   "execution_count": null,
   "metadata": {
    "ExecuteTime": {
     "end_time": "2017-10-04T18:38:44.676151Z",
     "start_time": "2017-10-04T18:38:44.666905Z"
    }
   },
   "outputs": [],
   "source": [
    "store_name = \"HyVee\"\n",
    "print(store_name)\n",
    "store_name == \"HyVee\" # Will return a boolean value True or False"
   ]
  },
  {
   "cell_type": "markdown",
   "metadata": {},
   "source": [
    "#### If-Else"
   ]
  },
  {
   "cell_type": "code",
   "execution_count": null,
   "metadata": {
    "ExecuteTime": {
     "end_time": "2017-10-04T18:38:48.029287Z",
     "start_time": "2017-10-04T18:38:48.025383Z"
    }
   },
   "outputs": [],
   "source": [
    "store_name = 'Walmart'"
   ]
  },
  {
   "cell_type": "code",
   "execution_count": null,
   "metadata": {
    "ExecuteTime": {
     "end_time": "2017-10-04T18:38:48.616794Z",
     "start_time": "2017-10-04T18:38:48.613255Z"
    }
   },
   "outputs": [],
   "source": [
    "store_name = 'Hyvee'"
   ]
  },
  {
   "cell_type": "code",
   "execution_count": null,
   "metadata": {
    "ExecuteTime": {
     "end_time": "2017-10-04T18:38:49.101890Z",
     "start_time": "2017-10-04T18:38:49.093990Z"
    }
   },
   "outputs": [],
   "source": [
    "if store_name != \"Walmart\":\n",
    "    print(\"The store is not Walmart. It's \" + store_name + \".\")\n",
    "else:\n",
    "    print(\"The store is Walmart.\")"
   ]
  },
  {
   "cell_type": "code",
   "execution_count": null,
   "metadata": {
    "ExecuteTime": {
     "end_time": "2017-10-04T18:38:49.485439Z",
     "start_time": "2017-10-04T18:38:49.479210Z"
    }
   },
   "outputs": [],
   "source": [
    "sum_=1"
   ]
  },
  {
   "cell_type": "code",
   "execution_count": null,
   "metadata": {
    "ExecuteTime": {
     "end_time": "2017-10-04T18:38:49.890044Z",
     "start_time": "2017-10-04T18:38:49.882708Z"
    }
   },
   "outputs": [],
   "source": [
    "if sum_ == 0:\n",
    "    print(\"sum_ is 0\")\n",
    "elif sum_ < 0:\n",
    "    print(\"sum_ is less than 0\")\n",
    "else:\n",
    "    print(\"sum_ is above 0 and its value is \" + str(sum_)) # Cast sum_ into string type."
   ]
  },
  {
   "cell_type": "markdown",
   "metadata": {},
   "source": [
    "Note that you do not have to use `if-else` or `if-elif-...-else`. You can use `if` without other clauses following that."
   ]
  },
  {
   "cell_type": "code",
   "execution_count": null,
   "metadata": {
    "ExecuteTime": {
     "end_time": "2017-10-04T18:38:50.702087Z",
     "start_time": "2017-10-04T18:38:50.697158Z"
    }
   },
   "outputs": [],
   "source": [
    "if sum_ < 5:\n",
    "    print('sum_ is below 5')"
   ]
  },
  {
   "cell_type": "markdown",
   "metadata": {},
   "source": [
    "### For loop"
   ]
  },
  {
   "cell_type": "code",
   "execution_count": null,
   "metadata": {
    "ExecuteTime": {
     "end_time": "2017-10-04T18:38:51.472022Z",
     "start_time": "2017-10-04T18:38:51.465813Z"
    }
   },
   "outputs": [],
   "source": [
    "for letter in store_name:\n",
    "    print(letter)\n",
    "# Use index to access specific elements"
   ]
  },
  {
   "cell_type": "code",
   "execution_count": null,
   "metadata": {
    "ExecuteTime": {
     "end_time": "2017-10-04T18:38:51.792543Z",
     "start_time": "2017-10-04T18:38:51.786228Z"
    }
   },
   "outputs": [],
   "source": [
    "# range() is a function to create interger sequences\n",
    "print(\"range(5) gives: \" + str(range(5))) # By default starts from 0\n",
    "print(\"range(1,9) gives: \" + str(range(1, 9))) # From 1 to 9-1 (Again the end index is exclusive.)"
   ]
  },
  {
   "cell_type": "code",
   "execution_count": null,
   "metadata": {
    "ExecuteTime": {
     "end_time": "2017-10-04T18:38:52.019968Z",
     "start_time": "2017-10-04T18:38:52.013204Z"
    }
   },
   "outputs": [],
   "source": [
    "for index in range(len(store_name)): # length of a sequence\n",
    "    print(\"The %ith letter in store_name is: %s\"%(index, store_name[index]))"
   ]
  },
  {
   "cell_type": "markdown",
   "metadata": {},
   "source": [
    "#### While loop"
   ]
  },
  {
   "cell_type": "markdown",
   "metadata": {},
   "source": [
    "Use `for` when you know __the exact number of iterations__; use `while` when you __do not (e.g., checking convergence)__."
   ]
  },
  {
   "cell_type": "code",
   "execution_count": null,
   "metadata": {
    "ExecuteTime": {
     "end_time": "2017-10-04T18:38:52.716237Z",
     "start_time": "2017-10-04T18:38:52.712884Z"
    }
   },
   "outputs": [],
   "source": [
    "x = 2"
   ]
  },
  {
   "cell_type": "code",
   "execution_count": null,
   "metadata": {
    "ExecuteTime": {
     "end_time": "2017-10-04T18:38:52.964735Z",
     "start_time": "2017-10-04T18:38:52.954555Z"
    }
   },
   "outputs": [],
   "source": [
    "while x < 10:\n",
    "    print(x)\n",
    "    x = x + (x-1)"
   ]
  },
  {
   "cell_type": "markdown",
   "metadata": {},
   "source": [
    "#### Notes on `break` and `continue`"
   ]
  },
  {
   "cell_type": "markdown",
   "metadata": {},
   "source": [
    "`break` means get out of the loop immediately. Any code after the `break` will NOT be executed."
   ]
  },
  {
   "cell_type": "code",
   "execution_count": null,
   "metadata": {
    "ExecuteTime": {
     "end_time": "2017-10-04T18:38:53.892415Z",
     "start_time": "2017-10-04T18:38:53.889220Z"
    }
   },
   "outputs": [],
   "source": [
    "store_name = 'Walmart'"
   ]
  },
  {
   "cell_type": "code",
   "execution_count": null,
   "metadata": {
    "ExecuteTime": {
     "end_time": "2017-10-04T18:38:54.300138Z",
     "start_time": "2017-10-04T18:38:54.290843Z"
    }
   },
   "outputs": [],
   "source": [
    "index = 0\n",
    "while True:\n",
    "    print(store_name[index])\n",
    "    index += 1 # a += b means a = a + b\n",
    "    if store_name[index] == \"a\":\n",
    "        print(\"End at a\")\n",
    "        break # instead of setting flag to False, we can directly break out of the loop\n",
    "        print(\"Hello!\") # This will NOT be run"
   ]
  },
  {
   "cell_type": "markdown",
   "metadata": {},
   "source": [
    "`continue` means get to the next iteration of loop. It will __break__ the current iteration and __continue__ to the next."
   ]
  },
  {
   "cell_type": "code",
   "execution_count": null,
   "metadata": {
    "ExecuteTime": {
     "end_time": "2017-10-04T18:38:56.047600Z",
     "start_time": "2017-10-04T18:38:56.040692Z"
    }
   },
   "outputs": [],
   "source": [
    "for letter in store_name:\n",
    "    if letter == \"a\":\n",
    "        continue # Not printing V\n",
    "    else:\n",
    "        print(letter)"
   ]
  }
 ],
 "metadata": {
  "hide_input": false,
  "kernelspec": {
   "display_name": "Python 3",
   "language": "python",
   "name": "python3"
  },
  "language_info": {
   "codemirror_mode": {
    "name": "ipython",
    "version": 3
   },
   "file_extension": ".py",
   "mimetype": "text/x-python",
   "name": "python",
   "nbconvert_exporter": "python",
   "pygments_lexer": "ipython3",
   "version": "3.6.5"
  },
  "toc": {
   "nav_menu": {},
   "number_sections": true,
   "sideBar": true,
   "skip_h1_title": false,
   "toc_cell": false,
   "toc_position": {
    "height": "677px",
    "left": "0px",
    "right": "1111px",
    "top": "43px",
    "width": "169px"
   },
   "toc_section_display": "block",
   "toc_window_display": true
  },
  "varInspector": {
   "cols": {
    "lenName": 16,
    "lenType": 16,
    "lenVar": 40
   },
   "kernels_config": {
    "python": {
     "delete_cmd_postfix": "",
     "delete_cmd_prefix": "del ",
     "library": "var_list.py",
     "varRefreshCmd": "print(var_dic_list())"
    },
    "r": {
     "delete_cmd_postfix": ") ",
     "delete_cmd_prefix": "rm(",
     "library": "var_list.r",
     "varRefreshCmd": "cat(var_dic_list()) "
    }
   },
   "types_to_exclude": [
    "module",
    "function",
    "builtin_function_or_method",
    "instance",
    "_Feature"
   ],
   "window_display": false
  }
 },
 "nbformat": 4,
 "nbformat_minor": 2
}

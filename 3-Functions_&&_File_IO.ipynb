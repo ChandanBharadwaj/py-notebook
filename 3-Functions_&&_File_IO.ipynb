{
 "cells": [
  {
   "cell_type": "markdown",
   "metadata": {},
   "source": [
    "## Functions"
   ]
  },
  {
   "cell_type": "markdown",
   "metadata": {},
   "source": [
    "\n",
    "```python\n",
    ">> output = function(input_argument)\n",
    "```"
   ]
  },
  {
   "cell_type": "markdown",
   "metadata": {},
   "source": [
    "For example:"
   ]
  },
  {
   "cell_type": "code",
   "execution_count": null,
   "metadata": {
    "ExecuteTime": {
     "end_time": "2017-10-21T16:57:55.794157Z",
     "start_time": "2017-10-21T16:57:55.782146Z"
    }
   },
   "outputs": [],
   "source": [
    "# built-in functions\n",
    "range(5)"
   ]
  },
  {
   "cell_type": "markdown",
   "metadata": {},
   "source": [
    "Syntax : function definition\n",
    "```python\n",
    "def func_name(arg1, arg2, arg3, ...):\n",
    "    #####################\n",
    "    # Do something here #\n",
    "    #####################\n",
    "    return output\n",
    "```\n",
    "\n",
    "\\* *`return output` is NOT required*"
   ]
  },
  {
   "cell_type": "code",
   "execution_count": null,
   "metadata": {
    "ExecuteTime": {
     "end_time": "2017-10-21T16:57:56.766865Z",
     "start_time": "2017-10-21T16:57:56.762910Z"
    }
   },
   "outputs": [],
   "source": [
    "# Example\n",
    "\n",
    "def mySum(list_to_sum):\n",
    "    return sum(list_to_sum)"
   ]
  },
  {
   "cell_type": "code",
   "execution_count": null,
   "metadata": {
    "ExecuteTime": {
     "end_time": "2017-10-21T16:57:57.203204Z",
     "start_time": "2017-10-21T16:57:57.197423Z"
    }
   },
   "outputs": [],
   "source": [
    "mySum(range(5))"
   ]
  },
  {
   "cell_type": "markdown",
   "metadata": {},
   "source": [
    "A more complicated one that does not use `sum` function"
   ]
  },
  {
   "cell_type": "code",
   "execution_count": null,
   "metadata": {
    "ExecuteTime": {
     "end_time": "2017-10-21T16:57:58.168373Z",
     "start_time": "2017-10-21T16:57:58.163149Z"
    }
   },
   "outputs": [],
   "source": [
    "def mySumUsingLoop(list_to_sum):\n",
    "    sum_ = list_to_sum[0]\n",
    "    for item in list_to_sum[1:]:\n",
    "        sum_ += item\n",
    "    return sum_"
   ]
  },
  {
   "cell_type": "code",
   "execution_count": null,
   "metadata": {
    "ExecuteTime": {
     "end_time": "2017-10-21T16:57:58.403314Z",
     "start_time": "2017-10-21T16:57:58.397344Z"
    }
   },
   "outputs": [],
   "source": [
    "mySumUsingLoop(range(5))"
   ]
  },
  {
   "cell_type": "code",
   "execution_count": null,
   "metadata": {},
   "outputs": [],
   "source": [
    "# call by object reference\n",
    "\n",
    "def myF(x):\n",
    "    x.append(5)\n",
    "    print(\"inside : \",x)\n",
    "\n",
    "a =[1,2]\n",
    "myF(a)\n",
    "print(\"OutSide : \",a)"
   ]
  },
  {
   "cell_type": "code",
   "execution_count": null,
   "metadata": {},
   "outputs": [],
   "source": [
    "# Positional args\n",
    "\n",
    "def myDefFunc(a,b=1):\n",
    "    print (a * b)\n",
    "\n",
    "myDefFunc(4)"
   ]
  },
  {
   "cell_type": "code",
   "execution_count": null,
   "metadata": {},
   "outputs": [],
   "source": [
    "# key word args\n",
    "\n",
    "def myKey(name,age):\n",
    "    print(\"name :\"+name+\" Age :\"+str(age))\n",
    "\n",
    "myKey(age=24,name=\"chandan\")"
   ]
  },
  {
   "cell_type": "code",
   "execution_count": null,
   "metadata": {},
   "outputs": [],
   "source": [
    "# Passing any number of arguments or types of params\n",
    "\n",
    "def funct(*args, **kargs):\n",
    "    print(\"printing args : \",args)\n",
    "    print(\"printing keyword args\", kargs)\n",
    "\n",
    "funct(1,2,name=\"chandan\",age=\"24\")"
   ]
  },
  {
   "cell_type": "markdown",
   "metadata": {},
   "source": [
    "### File I/O"
   ]
  },
  {
   "cell_type": "markdown",
   "metadata": {},
   "source": [
    "#### Write data to a file"
   ]
  },
  {
   "cell_type": "code",
   "execution_count": null,
   "metadata": {
    "ExecuteTime": {
     "end_time": "2017-10-21T16:58:00.176241Z",
     "start_time": "2017-10-21T16:58:00.170708Z"
    }
   },
   "outputs": [],
   "source": [
    "f = open(\"tmp1.csv\", \"w\") # f is a file handler, while \"w\" is the mode (w for write)\n",
    "data = range(10)\n",
    "for item in data:\n",
    "    f.write(str(item)+\"\\n\")\n",
    "f.close() # close the filer handler for security reasons.\n",
    "print(\"Done\")"
   ]
  },
  {
   "cell_type": "markdown",
   "metadata": {},
   "source": [
    "Note that without the typecasting from `int` to `str`, an error will be raised."
   ]
  },
  {
   "cell_type": "markdown",
   "metadata": {},
   "source": [
    "#### Read data to a file"
   ]
  },
  {
   "cell_type": "code",
   "execution_count": null,
   "metadata": {
    "ExecuteTime": {
     "end_time": "2017-10-21T16:58:01.809623Z",
     "start_time": "2017-10-21T16:58:01.803668Z"
    }
   },
   "outputs": [],
   "source": [
    "f = open(\"tmp1.csv\", \"r\") # this time, use read mode\n",
    "for item in f:\n",
    "    print(item)\n",
    "\n",
    "#print(f.readline())\n",
    "\n",
    "#print(f.read())\n",
    "\n",
    "for item in f:\n",
    "     print(item)\n"
   ]
  },
  {
   "cell_type": "code",
   "execution_count": null,
   "metadata": {
    "ExecuteTime": {
     "end_time": "2017-10-21T16:58:02.080483Z",
     "start_time": "2017-10-21T16:58:02.075638Z"
    }
   },
   "outputs": [],
   "source": [
    "contents = [item.strip(\"\\n\") for item in contents] # strip the newline\n",
    "print(contents)\n",
    "f.close() "
   ]
  }
 ],
 "metadata": {
  "hide_input": false,
  "kernelspec": {
   "display_name": "Python 3",
   "language": "python",
   "name": "python3"
  },
  "language_info": {
   "codemirror_mode": {
    "name": "ipython",
    "version": 3
   },
   "file_extension": ".py",
   "mimetype": "text/x-python",
   "name": "python",
   "nbconvert_exporter": "python",
   "pygments_lexer": "ipython3",
   "version": "3.6.5"
  },
  "toc": {
   "nav_menu": {},
   "number_sections": true,
   "sideBar": true,
   "skip_h1_title": false,
   "toc_cell": false,
   "toc_position": {
    "height": "840px",
    "left": "0px",
    "right": "1111px",
    "top": "113px",
    "width": "284px"
   },
   "toc_section_display": "block",
   "toc_window_display": true
  },
  "varInspector": {
   "cols": {
    "lenName": 16,
    "lenType": 16,
    "lenVar": 40
   },
   "kernels_config": {
    "python": {
     "delete_cmd_postfix": "",
     "delete_cmd_prefix": "del ",
     "library": "var_list.py",
     "varRefreshCmd": "print(var_dic_list())"
    },
    "r": {
     "delete_cmd_postfix": ") ",
     "delete_cmd_prefix": "rm(",
     "library": "var_list.r",
     "varRefreshCmd": "cat(var_dic_list()) "
    }
   },
   "types_to_exclude": [
    "module",
    "function",
    "builtin_function_or_method",
    "instance",
    "_Feature"
   ],
   "window_display": false
  }
 },
 "nbformat": 4,
 "nbformat_minor": 2
}

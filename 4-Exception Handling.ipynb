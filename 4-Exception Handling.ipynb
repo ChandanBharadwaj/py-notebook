{
 "cells": [
  {
   "cell_type": "markdown",
   "metadata": {},
   "source": [
    "# Exception Handling"
   ]
  },
  {
   "cell_type": "code",
   "execution_count": null,
   "metadata": {},
   "outputs": [],
   "source": [
    "# without handling any exceptions\n",
    "\n",
    "a = {1:100,2:200}\n",
    "val = a[100]\n",
    "print(val)\n",
    "print(\" is it worked ??\")"
   ]
  },
  {
   "cell_type": "code",
   "execution_count": null,
   "metadata": {},
   "outputs": [],
   "source": [
    "# Same Code with Exception Handling\n",
    "try:\n",
    "    val = a[100]\n",
    "except KeyError:\n",
    "    print(\"Key is missing\")\n",
    "else :\n",
    "    print(\" there was no exception\")\n",
    "finally :\n",
    "    print()\n",
    "print(\"Exception handled\")"
   ]
  },
  {
   "cell_type": "code",
   "execution_count": null,
   "metadata": {},
   "outputs": [],
   "source": [
    "#try..except..else\n",
    "try:   \n",
    "    val = a[1]\n",
    "except KeyError:\n",
    "    print(\"Key is missing\")\n",
    "else :\n",
    "    print(\" there was no exception\")"
   ]
  },
  {
   "cell_type": "code",
   "execution_count": null,
   "metadata": {},
   "outputs": [],
   "source": [
    "# try..except..finally\n",
    "try:\n",
    "    val = a[100]\n",
    "except KeyError:\n",
    "    print(\"Key is missing\")\n",
    "else :\n",
    "    print(\" there was no exception\")\n",
    "finally :\n",
    "    print(\"always Finally will be executed\")\n",
    "print(\"Exception handled\")"
   ]
  },
  {
   "cell_type": "code",
   "execution_count": null,
   "metadata": {},
   "outputs": [],
   "source": [
    "# Raising an exception\n",
    "\n",
    "try:\n",
    "    raise NameError(\"This error raised by me\")\n",
    "    val = a[100]\n",
    "except KeyError:\n",
    "    print(\"Key is missing\")\n",
    "except NameError:\n",
    "    print(\"Caught the name error\")\n",
    "else :\n",
    "    print(\" there was no exception\")\n",
    "finally :\n",
    "    print(\"always Finally will be executed\")\n",
    "print(\"Exception handled\")"
   ]
  },
  {
   "cell_type": "code",
   "execution_count": null,
   "metadata": {},
   "outputs": [],
   "source": [
    "# Ignoring an exception\n",
    "\n",
    "try:\n",
    "    raise NameError(\"This error raised by me\")\n",
    "    val = a[100]\n",
    "except KeyError:\n",
    "    print(\"Key is missing\")\n",
    "except NameError:\n",
    "    pass\n",
    "else :\n",
    "    print(\" there was no exception\")\n",
    "finally :\n",
    "    print(\"always Finally will be executed\")\n",
    "print(\"Exception handled\")"
   ]
  },
  {
   "cell_type": "markdown",
   "metadata": {},
   "source": [
    "BaseException is the main Exception class."
   ]
  }
 ],
 "metadata": {
  "kernelspec": {
   "display_name": "Python 3",
   "language": "python",
   "name": "python3"
  },
  "language_info": {
   "codemirror_mode": {
    "name": "ipython",
    "version": 3
   },
   "file_extension": ".py",
   "mimetype": "text/x-python",
   "name": "python",
   "nbconvert_exporter": "python",
   "pygments_lexer": "ipython3",
   "version": "3.6.5"
  }
 },
 "nbformat": 4,
 "nbformat_minor": 2
}

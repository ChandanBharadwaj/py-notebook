{
 "cells": [
  {
   "cell_type": "markdown",
   "metadata": {},
   "source": [
    "# Exception Handling"
   ]
  },
  {
   "cell_type": "code",
   "execution_count": 2,
   "metadata": {},
   "outputs": [
    {
     "ename": "KeyError",
     "evalue": "100",
     "output_type": "error",
     "traceback": [
      "\u001b[1;31m---------------------------------------------------------------------------\u001b[0m",
      "\u001b[1;31mKeyError\u001b[0m                                  Traceback (most recent call last)",
      "\u001b[1;32m<ipython-input-2-4749ae00c65d>\u001b[0m in \u001b[0;36m<module>\u001b[1;34m()\u001b[0m\n\u001b[0;32m      2\u001b[0m \u001b[1;33m\u001b[0m\u001b[0m\n\u001b[0;32m      3\u001b[0m \u001b[0ma\u001b[0m \u001b[1;33m=\u001b[0m \u001b[1;33m{\u001b[0m\u001b[1;36m1\u001b[0m\u001b[1;33m:\u001b[0m\u001b[1;36m100\u001b[0m\u001b[1;33m,\u001b[0m\u001b[1;36m2\u001b[0m\u001b[1;33m:\u001b[0m\u001b[1;36m200\u001b[0m\u001b[1;33m}\u001b[0m\u001b[1;33m\u001b[0m\u001b[0m\n\u001b[1;32m----> 4\u001b[1;33m \u001b[0mval\u001b[0m \u001b[1;33m=\u001b[0m \u001b[0ma\u001b[0m\u001b[1;33m[\u001b[0m\u001b[1;36m100\u001b[0m\u001b[1;33m]\u001b[0m\u001b[1;33m\u001b[0m\u001b[0m\n\u001b[0m\u001b[0;32m      5\u001b[0m \u001b[0mprint\u001b[0m\u001b[1;33m(\u001b[0m\u001b[0mval\u001b[0m\u001b[1;33m)\u001b[0m\u001b[1;33m\u001b[0m\u001b[0m\n",
      "\u001b[1;31mKeyError\u001b[0m: 100"
     ]
    }
   ],
   "source": [
    "# without handling any exceptions\n",
    "\n",
    "a = {1:100,2:200}\n",
    "val = a[100]\n",
    "print(val)\n",
    "print(\" is it worked ??\")"
   ]
  },
  {
   "cell_type": "code",
   "execution_count": 4,
   "metadata": {},
   "outputs": [
    {
     "name": "stdout",
     "output_type": "stream",
     "text": [
      "Key is missing\n",
      "Exception handled\n"
     ]
    }
   ],
   "source": [
    "# Same Code with Exception Handling\n",
    "try:\n",
    "    val = a[100]\n",
    "except KeyError:\n",
    "    print(\"Key is missing\")\n",
    "else :\n",
    "    print(\" there was no exception\")\n",
    "finally :\n",
    "    print()\n",
    "print(\"Exception handled\")"
   ]
  },
  {
   "cell_type": "code",
   "execution_count": 6,
   "metadata": {},
   "outputs": [
    {
     "name": "stdout",
     "output_type": "stream",
     "text": [
      " there was no exception\n"
     ]
    }
   ],
   "source": [
    "#try..except..else\n",
    "try:   \n",
    "    val = a[1]\n",
    "except KeyError:\n",
    "    print(\"Key is missing\")\n",
    "else :\n",
    "    print(\" there was no exception\")"
   ]
  },
  {
   "cell_type": "code",
   "execution_count": 7,
   "metadata": {},
   "outputs": [
    {
     "name": "stdout",
     "output_type": "stream",
     "text": [
      "Key is missing\n",
      "always Finally will be executed\n",
      "Exception handled\n"
     ]
    }
   ],
   "source": [
    "# try..except..finally\n",
    "try:\n",
    "    val = a[100]\n",
    "except KeyError:\n",
    "    print(\"Key is missing\")\n",
    "else :\n",
    "    print(\" there was no exception\")\n",
    "finally :\n",
    "    print(\"always Finally will be executed\")\n",
    "print(\"Exception handled\")"
   ]
  },
  {
   "cell_type": "code",
   "execution_count": 8,
   "metadata": {},
   "outputs": [
    {
     "name": "stdout",
     "output_type": "stream",
     "text": [
      "Caught the name error\n",
      "always Finally will be executed\n",
      "Exception handled\n"
     ]
    }
   ],
   "source": [
    "# Raising an exception\n",
    "\n",
    "try:\n",
    "    raise NameError(\"This error raised by me\")\n",
    "    val = a[100]\n",
    "except KeyError:\n",
    "    print(\"Key is missing\")\n",
    "except NameError:\n",
    "    print(\"Caught the name error\")\n",
    "else :\n",
    "    print(\" there was no exception\")\n",
    "finally :\n",
    "    print(\"always Finally will be executed\")\n",
    "print(\"Exception handled\")"
   ]
  },
  {
   "cell_type": "code",
   "execution_count": 9,
   "metadata": {},
   "outputs": [
    {
     "name": "stdout",
     "output_type": "stream",
     "text": [
      "always Finally will be executed\n",
      "Exception handled\n"
     ]
    }
   ],
   "source": [
    "# Ignoring an exception\n",
    "\n",
    "try:\n",
    "    raise NameError(\"This error raised by me\")\n",
    "    val = a[100]\n",
    "except KeyError:\n",
    "    print(\"Key is missing\")\n",
    "except NameError:\n",
    "    pass\n",
    "else :\n",
    "    print(\" there was no exception\")\n",
    "finally :\n",
    "    print(\"always Finally will be executed\")\n",
    "print(\"Exception handled\")"
   ]
  },
  {
   "cell_type": "markdown",
   "metadata": {},
   "source": [
    "BaseException is the main Exception class."
   ]
  }
 ],
 "metadata": {
  "kernelspec": {
   "display_name": "Python 3",
   "language": "python",
   "name": "python3"
  },
  "language_info": {
   "codemirror_mode": {
    "name": "ipython",
    "version": 3
   },
   "file_extension": ".py",
   "mimetype": "text/x-python",
   "name": "python",
   "nbconvert_exporter": "python",
   "pygments_lexer": "ipython3",
   "version": "3.6.5"
  }
 },
 "nbformat": 4,
 "nbformat_minor": 2
}

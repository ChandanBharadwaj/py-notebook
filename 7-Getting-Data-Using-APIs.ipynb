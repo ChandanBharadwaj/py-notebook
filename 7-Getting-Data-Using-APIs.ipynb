{
 "cells": [
  {
   "cell_type": "markdown",
   "metadata": {},
   "source": [
    "#### Send API requests in Python"
   ]
  },
  {
   "cell_type": "markdown",
   "metadata": {},
   "source": [
    "```bash\n",
    "$ pip install requests\n",
    "```\n",
    "\n",
    "or \n",
    "\n",
    "```bash\n",
    "$ conda install requests\n",
    "```"
   ]
  },
  {
   "cell_type": "code",
   "execution_count": null,
   "metadata": {
    "ExecuteTime": {
     "end_time": "2018-02-07T20:33:05.157071Z",
     "start_time": "2018-02-07T20:33:05.022071Z"
    }
   },
   "outputs": [],
   "source": [
    "# Let's load the library first\n",
    "import requests"
   ]
  },
  {
   "cell_type": "markdown",
   "metadata": {},
   "source": [
    "Using weather as an example, we should first know what is the request URL (where the request goes to), with what inputs (e.g., API key and city name). In our case, we know that our API key and the city to query so we can do the following."
   ]
  },
  {
   "cell_type": "code",
   "execution_count": null,
   "metadata": {
    "ExecuteTime": {
     "end_time": "2018-02-07T20:35:21.666104Z",
     "start_time": "2018-02-07T20:35:21.660972Z"
    }
   },
   "outputs": [],
   "source": [
    "weather_url = \"https://api.openweathermap.org/data/2.5/weather\"\n",
    "city_name = \"Jigani\"\n",
    "apikey=\"a236f384f5bced47bbba86335cdb1d2a\"\n",
    "print(weather_url)\n",
    "print(city_name)\n",
    "print(apikey)"
   ]
  },
  {
   "cell_type": "markdown",
   "metadata": {},
   "source": [
    "Now, we should let `requests` do its work."
   ]
  },
  {
   "cell_type": "code",
   "execution_count": null,
   "metadata": {
    "ExecuteTime": {
     "end_time": "2018-02-07T20:38:12.457792Z",
     "start_time": "2018-02-07T20:38:12.301996Z"
    }
   },
   "outputs": [],
   "source": [
    "r = requests.get(weather_url, params={'q': city_name, 'APPID': apikey})\n",
    "r.url # `requests` help us encode the URL in the correct format"
   ]
  },
  {
   "cell_type": "code",
   "execution_count": null,
   "metadata": {
    "ExecuteTime": {
     "end_time": "2018-02-07T20:39:54.715203Z",
     "start_time": "2018-02-07T20:39:54.711320Z"
    }
   },
   "outputs": [],
   "source": [
    "r.status_code # 200 means success"
   ]
  },
  {
   "cell_type": "markdown",
   "metadata": {},
   "source": [
    "To get the JSON response, we call `r.json()` method."
   ]
  },
  {
   "cell_type": "code",
   "execution_count": null,
   "metadata": {
    "ExecuteTime": {
     "end_time": "2018-02-07T20:38:45.017093Z",
     "start_time": "2018-02-07T20:38:45.004084Z"
    }
   },
   "outputs": [],
   "source": [
    "result = r.json()\n",
    "result"
   ]
  },
  {
   "cell_type": "markdown",
   "metadata": {},
   "source": [
    "JSON object will be converted into a `dict` type, which is the data structure in Python holding key value pairs. To access certain values, we just access them like a `dict`."
   ]
  },
  {
   "cell_type": "code",
   "execution_count": null,
   "metadata": {
    "ExecuteTime": {
     "end_time": "2018-02-07T20:42:14.659456Z",
     "start_time": "2018-02-07T20:42:14.653275Z"
    }
   },
   "outputs": [],
   "source": [
    "result['name']"
   ]
  },
  {
   "cell_type": "code",
   "execution_count": null,
   "metadata": {
    "ExecuteTime": {
     "end_time": "2018-02-07T20:43:59.167770Z",
     "start_time": "2018-02-07T20:43:59.153441Z"
    }
   },
   "outputs": [],
   "source": [
    "for key, value in result['main'].items():\n",
    "     print(key, value) # default temperature is in Kelvin"
   ]
  }
 ],
 "metadata": {
  "kernelspec": {
   "display_name": "Python 3",
   "language": "python",
   "name": "python3"
  },
  "language_info": {
   "codemirror_mode": {
    "name": "ipython",
    "version": 3
   },
   "file_extension": ".py",
   "mimetype": "text/x-python",
   "name": "python",
   "nbconvert_exporter": "python",
   "pygments_lexer": "ipython3",
   "version": "3.6.5"
  },
  "toc": {
   "nav_menu": {
    "height": "133px",
    "width": "254px"
   },
   "number_sections": true,
   "sideBar": true,
   "skip_h1_title": false,
   "toc_cell": false,
   "toc_position": {
    "height": "959px",
    "left": "0px",
    "right": "1662.34px",
    "top": "126.003px",
    "width": "204px"
   },
   "toc_section_display": "block",
   "toc_window_display": true
  }
 },
 "nbformat": 4,
 "nbformat_minor": 2
}

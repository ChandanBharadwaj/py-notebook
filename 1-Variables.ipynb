{
 "cells": [
  {
   "cell_type": "markdown",
   "metadata": {},
   "source": [
    "## Variables"
   ]
  },
  {
   "cell_type": "markdown",
   "metadata": {},
   "source": [
    "Vairables can be considered __containers__. You can put anything inside a container, __without specifying the size or type__, which will be needed in Java or C. Note that Python is case-sensitive. Be careful about using letters in different cases."
   ]
  },
  {
   "cell_type": "code",
   "execution_count": null,
   "metadata": {
    "ExecuteTime": {
     "end_time": "2017-10-04T18:38:12.552928Z",
     "start_time": "2017-10-04T18:38:12.543725Z"
    }
   },
   "outputs": [],
   "source": [
    "x = 3 # integer\n",
    "y = 3.0 # floating point number\n",
    "z = \"Hello!\" # strings\n",
    "Z = \"Wonderful!\" # another string, stored in a variable big z.\n",
    "print(x)\n",
    "print(y)\n",
    "print(z)\n",
    "print(Z)"
   ]
  },
  {
   "cell_type": "markdown",
   "metadata": {},
   "source": [
    "You can do operations on numeric values as well as strings."
   ]
  },
  {
   "cell_type": "code",
   "execution_count": null,
   "metadata": {
    "ExecuteTime": {
     "end_time": "2017-10-04T18:38:13.465719Z",
     "start_time": "2017-10-04T18:38:13.460944Z"
    }
   },
   "outputs": [],
   "source": [
    "sum_ = x + y # int + float = float\n",
    "print(sum_)"
   ]
  },
  {
   "cell_type": "code",
   "execution_count": null,
   "metadata": {
    "ExecuteTime": {
     "end_time": "2017-10-04T18:38:13.972732Z",
     "start_time": "2017-10-04T18:38:13.967236Z"
    }
   },
   "outputs": [],
   "source": [
    "v = \"World!\"\n",
    "sum_string = z + \" \" + v # concatenate strings\n",
    "print(sum_string)"
   ]
  },
  {
   "cell_type": "markdown",
   "metadata": {},
   "source": [
    "Print with formating with `%`"
   ]
  },
  {
   "cell_type": "code",
   "execution_count": null,
   "metadata": {
    "ExecuteTime": {
     "end_time": "2017-10-04T18:38:15.178277Z",
     "start_time": "2017-10-04T18:38:15.173368Z"
    }
   },
   "outputs": [],
   "source": [
    "print(\"The sum of x and y is %.2f\"%sum_) # %f for floating point number"
   ]
  },
  {
   "cell_type": "code",
   "execution_count": null,
   "metadata": {
    "ExecuteTime": {
     "end_time": "2017-10-04T18:38:15.472965Z",
     "start_time": "2017-10-04T18:38:15.467306Z"
    }
   },
   "outputs": [],
   "source": [
    "print(\"The string `sum_string` is '%s'\"%sum_string) # %s for string"
   ]
  },
  {
   "cell_type": "markdown",
   "metadata": {},
   "source": [
    "#### Naming convention\n",
    "\n",
    "There are two commonly used style in programming:\n",
    "1. __camelCase__\n",
    "2. __snake_case__ or __lower_case_with_underscore__"
   ]
  },
  {
   "cell_type": "markdown",
   "metadata": {},
   "source": [
    "All variable names must start with a letter or underscore (\\_). You can include numbers."
   ]
  },
  {
   "cell_type": "code",
   "execution_count": null,
   "metadata": {
    "ExecuteTime": {
     "end_time": "2017-10-04T18:38:16.625871Z",
     "start_time": "2017-10-04T18:38:16.617073Z"
    }
   },
   "outputs": [],
   "source": [
    "myStringHere = 'my string'\n",
    "myStringHere"
   ]
  },
  {
   "cell_type": "code",
   "execution_count": null,
   "metadata": {
    "ExecuteTime": {
     "end_time": "2017-10-04T18:38:16.940205Z",
     "start_time": "2017-10-04T18:38:16.934820Z"
    }
   },
   "outputs": [],
   "source": [
    "x = 3 # valid\n",
    "x_3 = \"xyz\" # valid"
   ]
  },
  {
   "cell_type": "code",
   "execution_count": null,
   "metadata": {
    "ExecuteTime": {
     "end_time": "2017-10-04T18:38:17.449582Z",
     "start_time": "2017-10-04T18:38:17.441735Z"
    }
   },
   "outputs": [],
   "source": [
    "3_x = \"456\" # invalid. Numbers cannot be in the first position."
   ]
  },
  {
   "cell_type": "markdown",
   "metadata": {},
   "source": [
    "## Strings"
   ]
  },
  {
   "cell_type": "code",
   "execution_count": null,
   "metadata": {
    "ExecuteTime": {
     "end_time": "2017-10-04T18:38:21.639477Z",
     "start_time": "2017-10-04T18:38:21.635596Z"
    }
   },
   "outputs": [],
   "source": [
    "store_name = \"HyVee\""
   ]
  },
  {
   "cell_type": "code",
   "execution_count": null,
   "metadata": {
    "ExecuteTime": {
     "end_time": "2017-10-04T18:38:22.364845Z",
     "start_time": "2017-10-04T18:38:22.359997Z"
    }
   },
   "outputs": [],
   "source": [
    "name_13 = store_name[1:4] # [start, end), end is exclusive; Python starts with 0 NOT 1\n",
    "print(name_13)"
   ]
  },
  {
   "cell_type": "code",
   "execution_count": null,
   "metadata": {
    "ExecuteTime": {
     "end_time": "2017-10-04T18:38:22.824251Z",
     "start_time": "2017-10-04T18:38:22.816702Z"
    }
   },
   "outputs": [],
   "source": [
    "last_letter = store_name[-1] # -1 means the last element\n",
    "print(last_letter)"
   ]
  }
 ],
 "metadata": {
  "hide_input": false,
  "kernelspec": {
   "display_name": "Python 3",
   "language": "python",
   "name": "python3"
  },
  "language_info": {
   "codemirror_mode": {
    "name": "ipython",
    "version": 3
   },
   "file_extension": ".py",
   "mimetype": "text/x-python",
   "name": "python",
   "nbconvert_exporter": "python",
   "pygments_lexer": "ipython3",
   "version": "3.6.5"
  },
  "toc": {
   "nav_menu": {},
   "number_sections": true,
   "sideBar": true,
   "skip_h1_title": false,
   "toc_cell": false,
   "toc_position": {
    "height": "677px",
    "left": "0px",
    "right": "1111px",
    "top": "43px",
    "width": "169px"
   },
   "toc_section_display": "block",
   "toc_window_display": true
  },
  "varInspector": {
   "cols": {
    "lenName": 16,
    "lenType": 16,
    "lenVar": 40
   },
   "kernels_config": {
    "python": {
     "delete_cmd_postfix": "",
     "delete_cmd_prefix": "del ",
     "library": "var_list.py",
     "varRefreshCmd": "print(var_dic_list())"
    },
    "r": {
     "delete_cmd_postfix": ") ",
     "delete_cmd_prefix": "rm(",
     "library": "var_list.r",
     "varRefreshCmd": "cat(var_dic_list()) "
    }
   },
   "types_to_exclude": [
    "module",
    "function",
    "builtin_function_or_method",
    "instance",
    "_Feature"
   ],
   "window_display": false
  }
 },
 "nbformat": 4,
 "nbformat_minor": 2
}

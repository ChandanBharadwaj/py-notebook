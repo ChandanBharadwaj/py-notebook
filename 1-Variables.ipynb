{
 "cells": [
  {
   "cell_type": "markdown",
   "metadata": {},
   "source": [
    "### Variables"
   ]
  },
  {
   "cell_type": "markdown",
   "metadata": {},
   "source": [
    "Vairables can be considered __containers__. You can put anything inside a container, __without specifying the size or type__, which will be needed in Java or C. Note that Python is case-sensitive. Be careful about using letters in different cases."
   ]
  },
  {
   "cell_type": "code",
   "execution_count": 1,
   "metadata": {
    "ExecuteTime": {
     "end_time": "2017-10-04T18:38:12.552928Z",
     "start_time": "2017-10-04T18:38:12.543725Z"
    }
   },
   "outputs": [
    {
     "name": "stdout",
     "output_type": "stream",
     "text": [
      "3\n",
      "3.0\n",
      "Hello!\n",
      "Wonderful!\n"
     ]
    }
   ],
   "source": [
    "x = 3 # integer\n",
    "y = 3. # floating point number\n",
    "z = \"Hello!\" # strings\n",
    "Z = \"Wonderful!\" # another string, stored in a variable big z.\n",
    "print(x)\n",
    "print(y)\n",
    "print(z)\n",
    "print(Z)"
   ]
  },
  {
   "cell_type": "markdown",
   "metadata": {},
   "source": [
    "You can do operations on numeric values as well as strings."
   ]
  },
  {
   "cell_type": "code",
   "execution_count": 10,
   "metadata": {
    "ExecuteTime": {
     "end_time": "2017-10-04T18:38:13.465719Z",
     "start_time": "2017-10-04T18:38:13.460944Z"
    }
   },
   "outputs": [
    {
     "name": "stdout",
     "output_type": "stream",
     "text": [
      "6.0\n"
     ]
    }
   ],
   "source": [
    "sum_ = x + y # int + float = float\n",
    "print(sum_)"
   ]
  },
  {
   "cell_type": "code",
   "execution_count": 3,
   "metadata": {
    "ExecuteTime": {
     "end_time": "2017-10-04T18:38:13.972732Z",
     "start_time": "2017-10-04T18:38:13.967236Z"
    }
   },
   "outputs": [
    {
     "name": "stdout",
     "output_type": "stream",
     "text": [
      "Hello! World!\n"
     ]
    }
   ],
   "source": [
    "v = \"World!\"\n",
    "sum_string = z + \" \" + v # concatenate strings\n",
    "print(sum_string)"
   ]
  },
  {
   "cell_type": "markdown",
   "metadata": {},
   "source": [
    "Print with formating with `%`"
   ]
  },
  {
   "cell_type": "code",
   "execution_count": 11,
   "metadata": {
    "ExecuteTime": {
     "end_time": "2017-10-04T18:38:15.178277Z",
     "start_time": "2017-10-04T18:38:15.173368Z"
    }
   },
   "outputs": [
    {
     "name": "stdout",
     "output_type": "stream",
     "text": [
      "The sum of x and y is 6.00\n"
     ]
    }
   ],
   "source": [
    "print(\"The sum of x and y is %.2f\"%sum_) # %f for floating point number"
   ]
  },
  {
   "cell_type": "code",
   "execution_count": 5,
   "metadata": {
    "ExecuteTime": {
     "end_time": "2017-10-04T18:38:15.472965Z",
     "start_time": "2017-10-04T18:38:15.467306Z"
    }
   },
   "outputs": [
    {
     "name": "stdout",
     "output_type": "stream",
     "text": [
      "The string `sum_string` is 'Hello! World!'\n"
     ]
    }
   ],
   "source": [
    "print(\"The string `sum_string` is '%s'\"%sum_string) # %s for string"
   ]
  },
  {
   "cell_type": "markdown",
   "metadata": {},
   "source": [
    "#### Naming convention\n",
    "\n",
    "There are two commonly used style in programming:\n",
    "1. __camelCase__\n",
    "2. __snake_case__ or __lower_case_with_underscore__"
   ]
  },
  {
   "cell_type": "markdown",
   "metadata": {},
   "source": [
    "All variable names must start with a letter or underscore (\\_). You can include numbers."
   ]
  },
  {
   "cell_type": "code",
   "execution_count": 6,
   "metadata": {
    "ExecuteTime": {
     "end_time": "2017-10-04T18:38:16.625871Z",
     "start_time": "2017-10-04T18:38:16.617073Z"
    }
   },
   "outputs": [
    {
     "data": {
      "text/plain": [
       "'my string'"
      ]
     },
     "execution_count": 6,
     "metadata": {},
     "output_type": "execute_result"
    }
   ],
   "source": [
    "myStringHere = 'my string'\n",
    "myStringHere"
   ]
  },
  {
   "cell_type": "code",
   "execution_count": 7,
   "metadata": {
    "ExecuteTime": {
     "end_time": "2017-10-04T18:38:16.940205Z",
     "start_time": "2017-10-04T18:38:16.934820Z"
    }
   },
   "outputs": [],
   "source": [
    "x = 3 # valid\n",
    "x_3 = \"xyz\" # valid"
   ]
  },
  {
   "cell_type": "code",
   "execution_count": 8,
   "metadata": {
    "ExecuteTime": {
     "end_time": "2017-10-04T18:38:17.449582Z",
     "start_time": "2017-10-04T18:38:17.441735Z"
    }
   },
   "outputs": [
    {
     "ename": "SyntaxError",
     "evalue": "invalid token (<ipython-input-8-520aa7218b05>, line 1)",
     "output_type": "error",
     "traceback": [
      "\u001b[1;36m  File \u001b[1;32m\"<ipython-input-8-520aa7218b05>\"\u001b[1;36m, line \u001b[1;32m1\u001b[0m\n\u001b[1;33m    3_x = \"456\" # invalid. Numbers cannot be in the first position.\u001b[0m\n\u001b[1;37m     ^\u001b[0m\n\u001b[1;31mSyntaxError\u001b[0m\u001b[1;31m:\u001b[0m invalid token\n"
     ]
    }
   ],
   "source": [
    "3_x = \"456\" # invalid. Numbers cannot be in the first position."
   ]
  },
  {
   "cell_type": "markdown",
   "metadata": {},
   "source": [
    "## Strings"
   ]
  },
  {
   "cell_type": "code",
   "execution_count": 9,
   "metadata": {
    "ExecuteTime": {
     "end_time": "2017-10-04T18:38:21.639477Z",
     "start_time": "2017-10-04T18:38:21.635596Z"
    }
   },
   "outputs": [],
   "source": [
    "store_name = \"HyVee\""
   ]
  },
  {
   "cell_type": "code",
   "execution_count": null,
   "metadata": {
    "ExecuteTime": {
     "end_time": "2017-10-04T18:38:22.364845Z",
     "start_time": "2017-10-04T18:38:22.359997Z"
    }
   },
   "outputs": [],
   "source": [
    "name_13 = store_name[1:4] # [start, end), end is exclusive; Python starts with 0 NOT 1\n",
    "print(name_13)"
   ]
  },
  {
   "cell_type": "code",
   "execution_count": null,
   "metadata": {
    "ExecuteTime": {
     "end_time": "2017-10-04T18:38:22.824251Z",
     "start_time": "2017-10-04T18:38:22.816702Z"
    }
   },
   "outputs": [],
   "source": [
    "last_letter = store_name[-1] # -1 means the last element\n",
    "print(last_letter)"
   ]
  },
  {
   "cell_type": "markdown",
   "metadata": {},
   "source": [
    "### Data Structures"
   ]
  },
  {
   "cell_type": "markdown",
   "metadata": {},
   "source": [
    "In this section, we show some major data structures in Python."
   ]
  },
  {
   "cell_type": "markdown",
   "metadata": {},
   "source": [
    "#### List"
   ]
  },
  {
   "cell_type": "markdown",
   "metadata": {},
   "source": [
    "Initialize a list with brackets. You can store anything in a list, even if they are different types"
   ]
  },
  {
   "cell_type": "code",
   "execution_count": null,
   "metadata": {
    "ExecuteTime": {
     "end_time": "2017-10-04T18:38:33.998071Z",
     "start_time": "2017-10-04T18:38:33.989861Z"
    }
   },
   "outputs": [],
   "source": [
    "a_list = [1, 2, 3] # commas to seperate elements\n",
    "print(\"Length of a_list is: %i\"%(len(a_list)))\n",
    "print(\"The 3rd element of a_list is: %s\" %(a_list[2])) # Remember Python starts with 0\n",
    "print(\"The last element of a_list is: %s\" %(a_list[-1])) # -1 means the end\n",
    "print(\"The sum of a_list is %.2f\"%(sum(a_list)))"
   ]
  },
  {
   "cell_type": "code",
   "execution_count": null,
   "metadata": {
    "ExecuteTime": {
     "end_time": "2017-10-04T18:38:34.199311Z",
     "start_time": "2017-10-04T18:38:34.187724Z"
    }
   },
   "outputs": [],
   "source": [
    "b_list = [20, True, \"good\", \"good\"] # We can put different types in a list\n",
    "b_list"
   ]
  },
  {
   "cell_type": "markdown",
   "metadata": {},
   "source": [
    "Update a list: __pop__, __remove__, __append__, __extend__"
   ]
  },
  {
   "cell_type": "code",
   "execution_count": null,
   "metadata": {
    "ExecuteTime": {
     "end_time": "2017-10-04T18:38:34.748166Z",
     "start_time": "2017-10-04T18:38:34.742477Z"
    }
   },
   "outputs": [],
   "source": [
    "print(a_list)\n",
    "print(\"Pop %i out of a_list\"%a_list.pop(1)) # pop the value of an index\n",
    "print(a_list)"
   ]
  },
  {
   "cell_type": "code",
   "execution_count": null,
   "metadata": {
    "ExecuteTime": {
     "end_time": "2017-10-04T18:38:35.145391Z",
     "start_time": "2017-10-04T18:38:35.138872Z"
    }
   },
   "outputs": [],
   "source": [
    "print(\"Remove the string good from b_list:\")\n",
    "b_list.remove(\"good\") # remove a specific value (the first one in the list)\n",
    "print(b_list)"
   ]
  },
  {
   "cell_type": "code",
   "execution_count": null,
   "metadata": {
    "ExecuteTime": {
     "end_time": "2017-10-04T18:38:35.767287Z",
     "start_time": "2017-10-04T18:38:35.762428Z"
    }
   },
   "outputs": [],
   "source": [
    "a_list.append(10)\n",
    "print(\"After appending a new value, a_list is now: %s\"%(str(a_list)))"
   ]
  },
  {
   "cell_type": "code",
   "execution_count": null,
   "metadata": {
    "ExecuteTime": {
     "end_time": "2017-10-04T18:38:36.939201Z",
     "start_time": "2017-10-04T18:38:36.933625Z"
    }
   },
   "outputs": [],
   "source": [
    "# merge a_list and b_list\n",
    "a_list.extend(b_list)\n",
    "## This is equivalent to a_list += b_list\n",
    "print(\"Merging a_list and b_list: %s\"%(str(a_list)))\n",
    "print(\"We can also use + to concatenate two lists: a_list + b_list = %s\"%(a_list+b_list))"
   ]
  },
  {
   "cell_type": "markdown",
   "metadata": {},
   "source": [
    "#### Tuple (A special case of list whose elements cannot be changed)"
   ]
  },
  {
   "cell_type": "markdown",
   "metadata": {
    "ExecuteTime": {
     "end_time": "2017-10-03T15:58:48.469747Z",
     "start_time": "2017-10-03T15:58:48.461327Z"
    }
   },
   "source": [
    "Initialize a tuple with paranthesis. The major difference between list and tuple is that you can alter list but not tuple."
   ]
  },
  {
   "cell_type": "code",
   "execution_count": null,
   "metadata": {
    "ExecuteTime": {
     "end_time": "2017-10-04T18:38:38.128034Z",
     "start_time": "2017-10-04T18:38:38.122907Z"
    }
   },
   "outputs": [],
   "source": [
    "a_tuple = (1, 2, 3, 10)\n",
    "print(a_tuple)\n",
    "print(\"First element of a_tuple: %i\"%a_tuple[0])"
   ]
  },
  {
   "cell_type": "code",
   "execution_count": null,
   "metadata": {
    "ExecuteTime": {
     "end_time": "2017-10-04T18:38:39.306874Z",
     "start_time": "2017-10-04T18:38:39.166231Z"
    }
   },
   "outputs": [],
   "source": [
    "# You cannot change the values of a_tuple\n",
    "a_tuple[0] = 5"
   ]
  },
  {
   "cell_type": "markdown",
   "metadata": {},
   "source": [
    "#### Dictionary: key-value pairs"
   ]
  },
  {
   "cell_type": "markdown",
   "metadata": {},
   "source": [
    "Initialize a dict by curly brackets"
   ]
  },
  {
   "cell_type": "code",
   "execution_count": null,
   "metadata": {
    "ExecuteTime": {
     "end_time": "2017-10-04T18:38:40.816234Z",
     "start_time": "2017-10-04T18:38:40.811386Z"
    }
   },
   "outputs": [],
   "source": [
    "d = {} # empty dictionary\n",
    "d[1] = \"1 value\" # add a key-value by using bracket (key). You can put anything in key/value.\n",
    "print(d)"
   ]
  },
  {
   "cell_type": "code",
   "execution_count": null,
   "metadata": {
    "ExecuteTime": {
     "end_time": "2017-10-04T18:38:41.195117Z",
     "start_time": "2017-10-04T18:38:41.184632Z"
    }
   },
   "outputs": [],
   "source": [
    "# Use for loop to add values\n",
    "for index in range(2, 10):\n",
    "    d[index] = \"%i value\"%index\n",
    "print(d)\n",
    "print(\"All the keys: \" + str(d.keys()))\n",
    "print(\"All the values: \" + str(d.values()))"
   ]
  },
  {
   "cell_type": "code",
   "execution_count": null,
   "metadata": {
    "ExecuteTime": {
     "end_time": "2017-10-04T18:38:42.319726Z",
     "start_time": "2017-10-04T18:38:42.313744Z"
    }
   },
   "outputs": [],
   "source": [
    "for key in d:\n",
    "    print \"Key is: %i, Value is : %s\"%(key, d[key])"
   ]
  },
  {
   "cell_type": "markdown",
   "metadata": {},
   "source": [
    "---"
   ]
  },
  {
   "cell_type": "markdown",
   "metadata": {},
   "source": [
    "### Control Logics\n",
    "\n",
    "In the following examples, we show examples of comparison, if-else loop, for loop, and while loop."
   ]
  },
  {
   "cell_type": "markdown",
   "metadata": {},
   "source": [
    "#### Comparison"
   ]
  },
  {
   "cell_type": "markdown",
   "metadata": {},
   "source": [
    "Python syntax for comparison is the same as our hand-written convention: \n",
    "\n",
    "1. Larger (or equal): $>$ ($>=$)\n",
    "2. Smaller (or equal): $<$ ($<=$)\n",
    "3. Equal to: $==$ (__Note here that there are double equal signs__)\n",
    "4. Not equal to: $!=$"
   ]
  },
  {
   "cell_type": "code",
   "execution_count": null,
   "metadata": {
    "ExecuteTime": {
     "end_time": "2017-10-04T18:38:43.928458Z",
     "start_time": "2017-10-04T18:38:43.923194Z"
    }
   },
   "outputs": [],
   "source": [
    "3 == 5 "
   ]
  },
  {
   "cell_type": "code",
   "execution_count": null,
   "metadata": {
    "ExecuteTime": {
     "end_time": "2017-10-04T18:38:44.272085Z",
     "start_time": "2017-10-04T18:38:44.264442Z"
    }
   },
   "outputs": [],
   "source": [
    "72 >= 2"
   ]
  },
  {
   "cell_type": "code",
   "execution_count": null,
   "metadata": {
    "ExecuteTime": {
     "end_time": "2017-10-04T18:38:44.676151Z",
     "start_time": "2017-10-04T18:38:44.666905Z"
    }
   },
   "outputs": [],
   "source": [
    "print(store_name)\n",
    "store_name == \"HyVee\" # Will return a boolean value True or False"
   ]
  },
  {
   "cell_type": "markdown",
   "metadata": {},
   "source": [
    "#### If-Else"
   ]
  },
  {
   "cell_type": "code",
   "execution_count": null,
   "metadata": {
    "ExecuteTime": {
     "end_time": "2017-10-04T18:38:48.029287Z",
     "start_time": "2017-10-04T18:38:48.025383Z"
    }
   },
   "outputs": [],
   "source": [
    "store_name = 'Walmart'"
   ]
  },
  {
   "cell_type": "code",
   "execution_count": null,
   "metadata": {
    "ExecuteTime": {
     "end_time": "2017-10-04T18:38:48.616794Z",
     "start_time": "2017-10-04T18:38:48.613255Z"
    }
   },
   "outputs": [],
   "source": [
    "store_name = 'Hyvee'"
   ]
  },
  {
   "cell_type": "code",
   "execution_count": null,
   "metadata": {
    "ExecuteTime": {
     "end_time": "2017-10-04T18:38:49.101890Z",
     "start_time": "2017-10-04T18:38:49.093990Z"
    }
   },
   "outputs": [],
   "source": [
    "if store_name != \"Walmart\":\n",
    "    print(\"The store is not Walmart. It's \" + store_name + \".\")\n",
    "else:\n",
    "    print(\"The store is Walmart.\")"
   ]
  },
  {
   "cell_type": "code",
   "execution_count": null,
   "metadata": {
    "ExecuteTime": {
     "end_time": "2017-10-04T18:38:49.485439Z",
     "start_time": "2017-10-04T18:38:49.479210Z"
    }
   },
   "outputs": [],
   "source": [
    "sum_"
   ]
  },
  {
   "cell_type": "code",
   "execution_count": null,
   "metadata": {
    "ExecuteTime": {
     "end_time": "2017-10-04T18:38:49.890044Z",
     "start_time": "2017-10-04T18:38:49.882708Z"
    }
   },
   "outputs": [],
   "source": [
    "if sum_ == 0:\n",
    "    print(\"sum_ is 0\")\n",
    "elif sum_ < 0:\n",
    "    print(\"sum_ is less than 0\")\n",
    "else:\n",
    "    print(\"sum_ is above 0 and its value is \" + str(sum_)) # Cast sum_ into string type."
   ]
  },
  {
   "cell_type": "markdown",
   "metadata": {},
   "source": [
    "Note that you do not have to use `if-else` or `if-elif-...-else`. You can use `if` without other clauses following that."
   ]
  },
  {
   "cell_type": "code",
   "execution_count": null,
   "metadata": {
    "ExecuteTime": {
     "end_time": "2017-10-04T18:38:50.702087Z",
     "start_time": "2017-10-04T18:38:50.697158Z"
    }
   },
   "outputs": [],
   "source": [
    "if sum_ > 5:\n",
    "    print('sum_ is above 5')"
   ]
  },
  {
   "cell_type": "markdown",
   "metadata": {},
   "source": [
    "#### For loop: Iterating thru a sequence"
   ]
  },
  {
   "cell_type": "code",
   "execution_count": null,
   "metadata": {
    "ExecuteTime": {
     "end_time": "2017-10-04T18:38:51.472022Z",
     "start_time": "2017-10-04T18:38:51.465813Z"
    }
   },
   "outputs": [],
   "source": [
    "for letter in store_name:\n",
    "    print(letter)\n",
    "# Use index to access specific elements"
   ]
  },
  {
   "cell_type": "code",
   "execution_count": null,
   "metadata": {
    "ExecuteTime": {
     "end_time": "2017-10-04T18:38:51.792543Z",
     "start_time": "2017-10-04T18:38:51.786228Z"
    }
   },
   "outputs": [],
   "source": [
    "# range() is a function to create interger sequences\n",
    "print(\"range(5) gives: \" + str(range(5))) # By default starts from 0\n",
    "print(\"range(1,9) gives: \" + str(range(1, 9))) # From 1 to 9-1 (Again the end index is exclusive.)"
   ]
  },
  {
   "cell_type": "code",
   "execution_count": null,
   "metadata": {
    "ExecuteTime": {
     "end_time": "2017-10-04T18:38:52.019968Z",
     "start_time": "2017-10-04T18:38:52.013204Z"
    }
   },
   "outputs": [],
   "source": [
    "for index in range(len(store_name)): # length of a sequence\n",
    "    print(\"The %ith letter in store_name is: %s\"%(index, store_name[index]))"
   ]
  },
  {
   "cell_type": "markdown",
   "metadata": {},
   "source": [
    "#### While loop: Keep doing until condition no longer holds."
   ]
  },
  {
   "cell_type": "markdown",
   "metadata": {},
   "source": [
    "Use `for` when you know __the exact number of iterations__; use `while` when you __do not (e.g., checking convergence)__."
   ]
  },
  {
   "cell_type": "code",
   "execution_count": null,
   "metadata": {
    "ExecuteTime": {
     "end_time": "2017-10-04T18:38:52.716237Z",
     "start_time": "2017-10-04T18:38:52.712884Z"
    }
   },
   "outputs": [],
   "source": [
    "x = 2"
   ]
  },
  {
   "cell_type": "code",
   "execution_count": null,
   "metadata": {
    "ExecuteTime": {
     "end_time": "2017-10-04T18:38:52.964735Z",
     "start_time": "2017-10-04T18:38:52.954555Z"
    }
   },
   "outputs": [],
   "source": [
    "while x < 10:\n",
    "    print(x)\n",
    "    x = x + (x-1)\n",
    "    #x += x-1"
   ]
  },
  {
   "cell_type": "markdown",
   "metadata": {},
   "source": [
    "#### Notes on `break` and `continue`"
   ]
  },
  {
   "cell_type": "markdown",
   "metadata": {},
   "source": [
    "`break` means get out of the loop immediately. Any code after the `break` will NOT be executed."
   ]
  },
  {
   "cell_type": "code",
   "execution_count": null,
   "metadata": {
    "ExecuteTime": {
     "end_time": "2017-10-04T18:38:53.892415Z",
     "start_time": "2017-10-04T18:38:53.889220Z"
    }
   },
   "outputs": [],
   "source": [
    "store_name = 'Walmart'"
   ]
  },
  {
   "cell_type": "code",
   "execution_count": null,
   "metadata": {
    "ExecuteTime": {
     "end_time": "2017-10-04T18:38:54.300138Z",
     "start_time": "2017-10-04T18:38:54.290843Z"
    }
   },
   "outputs": [],
   "source": [
    "index = 0\n",
    "while True:\n",
    "    print(store_name[index])\n",
    "    index += 1 # a += b means a = a + b\n",
    "    if store_name[index] == \"a\":\n",
    "        print(\"End at a\")\n",
    "        break # instead of setting flag to False, we can directly break out of the loop\n",
    "        print(\"Hello!\") # This will NOT be run"
   ]
  },
  {
   "cell_type": "markdown",
   "metadata": {},
   "source": [
    "`continue` means get to the next iteration of loop. It will __break__ the current iteration and __continue__ to the next."
   ]
  },
  {
   "cell_type": "code",
   "execution_count": null,
   "metadata": {
    "ExecuteTime": {
     "end_time": "2017-10-04T18:38:56.047600Z",
     "start_time": "2017-10-04T18:38:56.040692Z"
    }
   },
   "outputs": [],
   "source": [
    "for letter in store_name:\n",
    "    if letter == \"a\":\n",
    "        continue # Not printing V\n",
    "    else:\n",
    "        print(letter)"
   ]
  },
  {
   "cell_type": "code",
   "execution_count": null,
   "metadata": {
    "ExecuteTime": {
     "end_time": "2017-10-04T18:40:20.989414Z",
     "start_time": "2017-10-04T18:40:20.980935Z"
    }
   },
   "outputs": [],
   "source": [
    "index = 0\n",
    "while index <= len(store_name)-1:\n",
    "    print(store_name[index])\n",
    "    if store_name[index] == \"a\":\n",
    "        print(\"This is an `a`\")\n",
    "        index += 1 # a += b means a = a + b\n",
    "        continue\n",
    "    print(\"Hello!\") # This will NOT be run\n",
    "    index += 1 # a += b means a = a + b"
   ]
  }
 ],
 "metadata": {
  "hide_input": false,
  "kernelspec": {
   "display_name": "Python 3",
   "language": "python",
   "name": "python3"
  },
  "language_info": {
   "codemirror_mode": {
    "name": "ipython",
    "version": 3
   },
   "file_extension": ".py",
   "mimetype": "text/x-python",
   "name": "python",
   "nbconvert_exporter": "python",
   "pygments_lexer": "ipython3",
   "version": "3.6.5"
  },
  "toc": {
   "nav_menu": {},
   "number_sections": true,
   "sideBar": true,
   "skip_h1_title": false,
   "toc_cell": false,
   "toc_position": {
    "height": "677px",
    "left": "0px",
    "right": "1111px",
    "top": "43px",
    "width": "169px"
   },
   "toc_section_display": "block",
   "toc_window_display": true
  },
  "varInspector": {
   "cols": {
    "lenName": 16,
    "lenType": 16,
    "lenVar": 40
   },
   "kernels_config": {
    "python": {
     "delete_cmd_postfix": "",
     "delete_cmd_prefix": "del ",
     "library": "var_list.py",
     "varRefreshCmd": "print(var_dic_list())"
    },
    "r": {
     "delete_cmd_postfix": ") ",
     "delete_cmd_prefix": "rm(",
     "library": "var_list.r",
     "varRefreshCmd": "cat(var_dic_list()) "
    }
   },
   "types_to_exclude": [
    "module",
    "function",
    "builtin_function_or_method",
    "instance",
    "_Feature"
   ],
   "window_display": false
  }
 },
 "nbformat": 4,
 "nbformat_minor": 2
}
